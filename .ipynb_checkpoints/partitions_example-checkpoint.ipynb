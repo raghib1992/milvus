{
 "cells": [
  {
   "cell_type": "code",
   "execution_count": 1,
   "id": "6ba50fb4-55e9-4f13-bb28-b7dd4948c8c1",
   "metadata": {},
   "outputs": [],
   "source": [
    "from pymilvus import Collection, FieldSchema, CollectionSchema, DataType, connections, utility"
   ]
  },
  {
   "cell_type": "code",
   "execution_count": 2,
   "id": "acc1be6e-2483-4b13-9aeb-3f3722b0ac27",
   "metadata": {},
   "outputs": [],
   "source": [
    "connections.connect(\n",
    "  alias=\"default\",\n",
    "  host='localhost',\n",
    "  port='19530'\n",
    ")"
   ]
  },
  {
   "cell_type": "code",
   "execution_count": 3,
   "id": "f2dabc3b-24e1-4a21-89c9-225f98928853",
   "metadata": {},
   "outputs": [
    {
     "data": {
      "text/plain": [
       "['Shaheen', 'Uzma', 'Album1']"
      ]
     },
     "execution_count": 3,
     "metadata": {},
     "output_type": "execute_result"
    }
   ],
   "source": [
    "## Field Schema\n",
    "\n",
    "song_name = FieldSchema(\n",
    "  name=\"song_name\",\n",
    "  dtype=DataType.VARCHAR,\n",
    "  max_length=200,\n",
    ")\n",
    "song_id = FieldSchema(\n",
    "  name=\"song_id\",\n",
    "  dtype=DataType.INT64,\n",
    "  is_primary=True,\n",
    ")\n",
    "listen_count = FieldSchema(\n",
    "  name=\"listen_count\",\n",
    "  dtype=DataType.INT64,\n",
    ")\n",
    "song_vec = FieldSchema(\n",
    "  name=\"song_vec\",\n",
    "  dtype=DataType.FLOAT_VECTOR,\n",
    "  dim=2\n",
    ")\n",
    "\n",
    "# Collection schema\n",
    "collection_schema = CollectionSchema(\n",
    "  fields=[song_name, song_id, listen_count, song_vec],\n",
    "  description=\"Album Songs\"\n",
    ")\n",
    "\n",
    "# Create collection\n",
    "\n",
    "collection = Collection(\n",
    "    name=\"Album1\",\n",
    "    schema=collection_schema,\n",
    "    using='default')\n",
    "utility.list_collections()"
   ]
  },
  {
   "cell_type": "code",
   "execution_count": 4,
   "id": "8e47f70d-3aea-4f40-878f-fd2a3503004e",
   "metadata": {},
   "outputs": [
    {
     "data": {
      "text/plain": [
       "True"
      ]
     },
     "execution_count": 4,
     "metadata": {},
     "output_type": "execute_result"
    }
   ],
   "source": [
    "# Create a partition\n",
    "\n",
    "collection.create_partition(\"Disc1\")\n",
    "collection.has_partition(\"Disc1\")"
   ]
  },
  {
   "cell_type": "code",
   "execution_count": 5,
   "id": "cfbd9b2b-571d-40d4-9bab-73a3ad0eec73",
   "metadata": {},
   "outputs": [
    {
     "data": {
      "text/plain": [
       "True"
      ]
     },
     "execution_count": 5,
     "metadata": {},
     "output_type": "execute_result"
    }
   ],
   "source": [
    "# Create another partition\n",
    "collection.create_partition(\"Disc2\")\n",
    "collection.has_partition(\"Disc2\")"
   ]
  },
  {
   "cell_type": "code",
   "execution_count": 6,
   "id": "c9652802-cd3c-459a-9028-629dd6f6950f",
   "metadata": {},
   "outputs": [
    {
     "data": {
      "text/plain": [
       "False"
      ]
     },
     "execution_count": 6,
     "metadata": {},
     "output_type": "execute_result"
    }
   ],
   "source": [
    "# Drop a a partition\n",
    "\n",
    "collection.drop_partition(\"Disc2\")\n",
    "collection.has_partition(\"Disc2\")"
   ]
  },
  {
   "cell_type": "code",
   "execution_count": 7,
   "id": "510bdbd2-7eab-4f61-b4f5-eb10d6ea4bb1",
   "metadata": {},
   "outputs": [
    {
     "data": {
      "text/plain": [
       "False"
      ]
     },
     "execution_count": 7,
     "metadata": {},
     "output_type": "execute_result"
    }
   ],
   "source": [
    "# Drop a a partition\n",
    "\n",
    "collection.drop_partition(\"Disc1\")\n",
    "collection.has_partition(\"Disc1\")"
   ]
  },
  {
   "cell_type": "code",
   "execution_count": null,
   "id": "6b16aec8-21ad-4b7a-a8d9-257bed802d44",
   "metadata": {},
   "outputs": [],
   "source": []
  }
 ],
 "metadata": {
  "kernelspec": {
   "display_name": "Python 3 (ipykernel)",
   "language": "python",
   "name": "python3"
  },
  "language_info": {
   "codemirror_mode": {
    "name": "ipython",
    "version": 3
   },
   "file_extension": ".py",
   "mimetype": "text/x-python",
   "name": "python",
   "nbconvert_exporter": "python",
   "pygments_lexer": "ipython3",
   "version": "3.10.12"
  }
 },
 "nbformat": 4,
 "nbformat_minor": 5
}
