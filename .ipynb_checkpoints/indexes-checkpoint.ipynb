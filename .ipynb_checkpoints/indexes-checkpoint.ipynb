{
 "cells": [
  {
   "cell_type": "code",
   "execution_count": 1,
   "id": "3d91f790-295b-4016-b7f2-f01a7f2b1f90",
   "metadata": {},
   "outputs": [],
   "source": [
    "from pymilvus import Collection, FieldSchema, CollectionSchema, DataType, connections, utility"
   ]
  },
  {
   "cell_type": "code",
   "execution_count": 2,
   "id": "fc932531-9608-4540-8996-2b5a03a2ebca",
   "metadata": {},
   "outputs": [],
   "source": [
    "connections.connect(\n",
    "  alias=\"default\",\n",
    "  host='localhost',\n",
    "  port='19530'\n",
    ")"
   ]
  },
  {
   "cell_type": "code",
   "execution_count": 3,
   "id": "8945146f-2c89-4f9c-80c2-d99a3be27042",
   "metadata": {},
   "outputs": [
    {
     "data": {
      "text/plain": [
       "['Album1']"
      ]
     },
     "execution_count": 3,
     "metadata": {},
     "output_type": "execute_result"
    }
   ],
   "source": [
    "collection = Collection(\"Album1\")\n",
    "utility.list_collections()"
   ]
  },
  {
   "cell_type": "code",
   "execution_count": 4,
   "id": "9c2bcecd-ccc6-4fa0-a4ad-9e0eb888e71d",
   "metadata": {},
   "outputs": [
    {
     "data": {
      "text/plain": [
       "Status(code=0, message=)"
      ]
     },
     "execution_count": 4,
     "metadata": {},
     "output_type": "execute_result"
    }
   ],
   "source": [
    "index_params = {\n",
    "  \"metric_type\":\"L2\",\n",
    "  \"index_type\":\"IVF_SQ8\",\n",
    "  \"params\":{\"nlist\":64},\n",
    "  \"index_name\": \"vector_index\"\n",
    "}\n",
    "collection.create_index(\n",
    "  field_name=\"song_vec\", \n",
    "  index_params=index_params\n",
    ")\n"
   ]
  },
  {
   "cell_type": "code",
   "execution_count": 5,
   "id": "88da8cb1-667b-4333-895a-7cda7bf7c188",
   "metadata": {},
   "outputs": [
    {
     "name": "stdout",
     "output_type": "stream",
     "text": [
      "[{'metric_type': 'L2', 'index_type': 'IVF_SQ8', 'params': {'nlist': 64}, 'index_name': 'vector_index'}]\n"
     ]
    }
   ],
   "source": [
    "print([index.params for index in collection.indexes])"
   ]
  },
  {
   "cell_type": "code",
   "execution_count": 6,
   "id": "7374f15a-60cb-493f-89d0-ce9e09d30361",
   "metadata": {},
   "outputs": [
    {
     "data": {
      "text/plain": [
       "Status(code=0, message=)"
      ]
     },
     "execution_count": 6,
     "metadata": {},
     "output_type": "execute_result"
    }
   ],
   "source": [
    "# index on scalar field\n",
    "\n",
    "collection.create_index(\n",
    "  field_name=\"song_name\", \n",
    "  index_type=\"INVERTED\",\n",
    "  index_name=\"scalar_index_song_name\",\n",
    ")"
   ]
  },
  {
   "cell_type": "code",
   "execution_count": 11,
   "id": "3d4bb7de-f2fd-4494-888c-4d1eaeb3957f",
   "metadata": {},
   "outputs": [],
   "source": [
    "# Drop Index\n",
    "collection.drop_index(index_name=\"vector_index\")"
   ]
  },
  {
   "cell_type": "code",
   "execution_count": null,
   "id": "d74f3009-655c-4872-b32a-1163aaf9d2bc",
   "metadata": {},
   "outputs": [],
   "source": []
  }
 ],
 "metadata": {
  "kernelspec": {
   "display_name": "Python 3 (ipykernel)",
   "language": "python",
   "name": "python3"
  },
  "language_info": {
   "codemirror_mode": {
    "name": "ipython",
    "version": 3
   },
   "file_extension": ".py",
   "mimetype": "text/x-python",
   "name": "python",
   "nbconvert_exporter": "python",
   "pygments_lexer": "ipython3",
   "version": "3.11.2"
  }
 },
 "nbformat": 4,
 "nbformat_minor": 5
}
