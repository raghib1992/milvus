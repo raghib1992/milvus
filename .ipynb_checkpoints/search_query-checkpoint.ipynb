{
 "cells": [
  {
   "cell_type": "code",
   "execution_count": 1,
   "id": "4301fc4c-fffc-4626-9b28-2c28ac6f28ac",
   "metadata": {},
   "outputs": [
    {
     "data": {
      "text/plain": [
       "['Album1']"
      ]
     },
     "execution_count": 1,
     "metadata": {},
     "output_type": "execute_result"
    }
   ],
   "source": [
    "from pymilvus import Collection, FieldSchema, CollectionSchema, DataType, connections, utility\n",
    "\n",
    "connections.connect(\n",
    "  alias=\"default\",\n",
    "  host='localhost',\n",
    "  port='19530'\n",
    ")\n",
    "\n",
    "collection = Collection(\"Album1\")\n",
    "collection.compact()\n",
    "utility.list_collections()"
   ]
  },
  {
   "cell_type": "code",
   "execution_count": 2,
   "id": "6c38ac14-932d-471d-a08a-16be5abd0f63",
   "metadata": {},
   "outputs": [],
   "source": [
    "# Load the collection in to the memory\n",
    "collection.load(replica_number=1)"
   ]
  },
  {
   "cell_type": "code",
   "execution_count": 3,
   "id": "517e1735-fa68-488e-824c-c718ff0f49ff",
   "metadata": {},
   "outputs": [
    {
     "name": "stdout",
     "output_type": "stream",
     "text": [
      "id: 820, distance: 0.00012562921619974077, entity: {'song_name': 'SHSGYAC'}\n",
      "id: 49, distance: 0.0001705049944575876, entity: {'song_name': 'RALMLOL'}\n",
      "id: 994, distance: 0.00024210741685237736, entity: {'song_name': 'WXWDWUI'}\n",
      "id: 285, distance: 0.0006960387108847499, entity: {'song_name': 'KTEOHAK'}\n",
      "id: 1283, distance: 0.0007010234985500574, entity: {'song_name': 'YMSLKVT'}\n"
     ]
    }
   ],
   "source": [
    "## Vector Similarity Search\n",
    "\n",
    "results = collection.search(\n",
    "\tdata=[[0.1, 0.2]], \n",
    "\tanns_field=\"song_vec\", \n",
    "\tparam={\"metric_type\": \"L2\", \"params\": {\"search_k\": 64}},\n",
    "\tlimit=5, \n",
    "\texpr=None,\n",
    "\toutput_fields=['song_name']\n",
    ")\n",
    "\n",
    "for result in results[0]:\n",
    "    print (result)"
   ]
  },
  {
   "cell_type": "code",
   "execution_count": 4,
   "id": "bc68f5e8-21cd-415a-b4bb-2b370e84246a",
   "metadata": {},
   "outputs": [
    {
     "name": "stdout",
     "output_type": "stream",
     "text": [
      "{'song_id': 1, 'song_name': 'SGCWVNC', 'listen_count': 49246}\n",
      "{'song_id': 2, 'song_name': 'EFPSNUA', 'listen_count': 10720}\n"
     ]
    }
   ],
   "source": [
    "# Query the data in scalar field\n",
    "\n",
    "query_res = collection.query(\n",
    "  expr = \"song_id in [1,2]\",\n",
    "  limit = 10, \n",
    "  output_fields = [\"song_name\", \"listen_count\"]\n",
    ")\n",
    "\n",
    "for result in query_res:\n",
    "    print (result)"
   ]
  },
  {
   "cell_type": "code",
   "execution_count": 5,
   "id": "f6cafb7d-1a1b-4d86-8f70-a848f77f25b5",
   "metadata": {},
   "outputs": [
    {
     "name": "stdout",
     "output_type": "stream",
     "text": [
      "id: 820, distance: 0.00012562921619974077, entity: {'song_name': 'SHSGYAC'}\n",
      "id: 49, distance: 0.0001705049944575876, entity: {'song_name': 'RALMLOL'}\n",
      "id: 994, distance: 0.00024210741685237736, entity: {'song_name': 'WXWDWUI'}\n",
      "id: 285, distance: 0.0006960387108847499, entity: {'song_name': 'KTEOHAK'}\n",
      "id: 1283, distance: 0.0007010234985500574, entity: {'song_name': 'YMSLKVT'}\n"
     ]
    }
   ],
   "source": [
    "# Hybrid search\n",
    "\n",
    "hybrid_res = collection.search(\n",
    "\tdata=[[0.1, 0.2]], \n",
    "\tanns_field=\"song_vec\", \n",
    "\tparam={\"metric_type\": \"L2\", \"params\": {\"search_k\": 64}},\n",
    "\tlimit=5, \n",
    "\texpr=\"listen_count <= 100000\",\n",
    "\toutput_fields=['song_name']\n",
    ")\n",
    "\n",
    "for result in hybrid_res[0]:\n",
    "    print (result)"
   ]
  },
  {
   "cell_type": "code",
   "execution_count": 6,
   "id": "d239ee16-3e25-486a-84f5-a0cc40f93722",
   "metadata": {},
   "outputs": [],
   "source": [
    "# Release the collection from the memory\n",
    "collection.release()"
   ]
  },
  {
   "cell_type": "code",
   "execution_count": null,
   "id": "0de5fd71-2833-4128-a863-5ceabc3c13f3",
   "metadata": {},
   "outputs": [],
   "source": []
  }
 ],
 "metadata": {
  "kernelspec": {
   "display_name": "Python 3 (ipykernel)",
   "language": "python",
   "name": "python3"
  },
  "language_info": {
   "codemirror_mode": {
    "name": "ipython",
    "version": 3
   },
   "file_extension": ".py",
   "mimetype": "text/x-python",
   "name": "python",
   "nbconvert_exporter": "python",
   "pygments_lexer": "ipython3",
   "version": "3.11.2"
  }
 },
 "nbformat": 4,
 "nbformat_minor": 5
}
