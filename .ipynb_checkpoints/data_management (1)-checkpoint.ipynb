{
 "cells": [
  {
   "cell_type": "code",
   "execution_count": 1,
   "id": "fb647c9c-7849-4ff1-8ce2-6aba47afde1a",
   "metadata": {},
   "outputs": [],
   "source": [
    "from pymilvus import Collection, FieldSchema, CollectionSchema, DataType, connections, utility\n",
    "import string\n",
    "import random"
   ]
  },
  {
   "cell_type": "code",
   "execution_count": 2,
   "id": "a9f8d975-dc20-4ae2-b945-53ee0d294abd",
   "metadata": {},
   "outputs": [],
   "source": [
    "connections.connect(\n",
    "  alias=\"default\",\n",
    "  host='localhost',\n",
    "  port='19530',\n",
    ")"
   ]
  },
  {
   "cell_type": "code",
   "execution_count": 3,
   "id": "19079271-dd9e-45d5-a58a-6bad2857b40d",
   "metadata": {},
   "outputs": [
    {
     "data": {
      "text/plain": [
       "['Album1']"
      ]
     },
     "execution_count": 3,
     "metadata": {},
     "output_type": "execute_result"
    }
   ],
   "source": [
    "collection = Collection(\"Album1\")\n",
    "utility.list_collections()"
   ]
  },
  {
   "cell_type": "code",
   "execution_count": 6,
   "id": "55c95c95-4505-4dbc-8feb-88110a07d32c",
   "metadata": {},
   "outputs": [
    {
     "name": "stdout",
     "output_type": "stream",
     "text": [
      "[['GXBBSGC', 'MZGQXRX', 'RIUFHWI', 'NLQLBPR', 'RKETTYX'], [0, 1, 2, 3, 4], [98402, 54245, 43091, 79138, 91368], [[0.6321205767747291, 0.21791349150899475], [0.16694804149233322, 0.8830668244442224], [0.6176252056397034, 0.6901483887600292], [0.1822064832811977, 0.2946194049133838], [0.3754923832921465, 0.5871843776329988]]]\n"
     ]
    }
   ],
   "source": [
    "## Prepare data to be inserted\n",
    "num_entities = 5\n",
    "data = [\n",
    "  [''.join(random.choices(string.ascii_uppercase, k=7)) for i in range(num_entities)], #song name\n",
    "  [i for i in range(num_entities)], # Song ID\n",
    "  [random.randint(0, 100000) for i in range(num_entities)], # Listen Count\n",
    "  [[random.random() for _ in range(2)] for _ in range(num_entities)] # song_vec - 2d vector\n",
    "]\n",
    "print (data)"
   ]
  },
  {
   "cell_type": "code",
   "execution_count": 5,
   "id": "a023e521-e63c-41bf-a55f-f700aa38ef6a",
   "metadata": {},
   "outputs": [],
   "source": [
    "# Insert entities\n",
    "data_insert = collection.insert(data)"
   ]
  },
  {
   "cell_type": "code",
   "execution_count": 6,
   "id": "67ac2e72-48a4-4cf8-9c8f-1ed7bf96c26a",
   "metadata": {},
   "outputs": [
    {
     "data": {
      "text/plain": [
       "(insert count: 0, delete count: 2, upsert count: 0, timestamp: 441605500079439876, success count: 0, err count: 0)"
      ]
     },
     "execution_count": 6,
     "metadata": {},
     "output_type": "execute_result"
    }
   ],
   "source": [
    "# Delete Entities\n",
    "\n",
    "expr = \"song_id in [0, 20]\"\n",
    "collection.delete(expr)"
   ]
  },
  {
   "cell_type": "code",
   "execution_count": 7,
   "id": "aae834bc-6807-4358-97d2-8d9cfabaf28c",
   "metadata": {},
   "outputs": [],
   "source": [
    "# Compact collection\n",
    "collection.compact()"
   ]
  },
  {
   "cell_type": "code",
   "execution_count": null,
   "id": "aaa514b6-1ba9-48a6-9154-1f9e1be18ee3",
   "metadata": {},
   "outputs": [],
   "source": []
  }
 ],
 "metadata": {
  "kernelspec": {
   "display_name": "Python 3 (ipykernel)",
   "language": "python",
   "name": "python3"
  },
  "language_info": {
   "codemirror_mode": {
    "name": "ipython",
    "version": 3
   },
   "file_extension": ".py",
   "mimetype": "text/x-python",
   "name": "python",
   "nbconvert_exporter": "python",
   "pygments_lexer": "ipython3",
   "version": "3.11.2"
  }
 },
 "nbformat": 4,
 "nbformat_minor": 5
}
