{
 "cells": [
  {
   "cell_type": "code",
   "execution_count": 2,
   "id": "bf1fae07-5627-445c-8561-b7f803331e90",
   "metadata": {
    "editable": true,
    "slideshow": {
     "slide_type": ""
    },
    "tags": []
   },
   "outputs": [],
   "source": [
    "from pymilvus import Collection, FieldSchema, CollectionSchema, DataType, connections, utility"
   ]
  },
  {
   "cell_type": "code",
   "execution_count": 3,
   "id": "5166e050-e7f2-46a3-ba45-cee8d0f3b59f",
   "metadata": {},
   "outputs": [],
   "source": [
    "connections.connect(\n",
    "  alias=\"default\",\n",
    "  host='localhost',\n",
    "  port='19530'\n",
    ")"
   ]
  },
  {
   "cell_type": "code",
   "execution_count": 30,
   "id": "a5e2b183-f8b8-4d57-8b23-40166a746478",
   "metadata": {},
   "outputs": [],
   "source": [
    "## Field Schema\n",
    "\n",
    "song_name = FieldSchema(\n",
    "  name=\"song_name\",\n",
    "  dtype=DataType.VARCHAR,\n",
    "  max_length=200,\n",
    ")\n",
    "song_id = FieldSchema(\n",
    "  name=\"song_id\",\n",
    "  dtype=DataType.INT64,\n",
    "  is_primary=True,\n",
    ")\n",
    "listen_count = FieldSchema(\n",
    "  name=\"listen_count\",\n",
    "  dtype=DataType.INT64,\n",
    ")\n",
    "song_vec = FieldSchema(\n",
    "  name=\"song_vec\",\n",
    "  dtype=DataType.FLOAT_VECTOR,\n",
    "  dim=64\n",
    ")\n",
    "song_json = FieldSchema(\n",
    "  name=\"song_json\",\n",
    "  dtype=DataType.JSON\n",
    ")\n",
    "song_array = FieldSchema(\n",
    "  name='song_array', dtype=DataType.ARRAY,\n",
    "  element_type=DataType.INT64,\n",
    "  max_capacity=900\n",
    ")"
   ]
  },
  {
   "cell_type": "code",
   "execution_count": 31,
   "id": "7c623229-1321-42d7-8c8b-02fff3779861",
   "metadata": {},
   "outputs": [],
   "source": [
    "# Collection schema\n",
    "collection_schema = CollectionSchema(\n",
    "  fields=[song_name, song_id, listen_count, song_vec, song_json, song_array],\n",
    "  description=\"Album Songs\"\n",
    ")"
   ]
  },
  {
   "cell_type": "code",
   "execution_count": 32,
   "id": "4e688c6d-ef72-4c50-a102-8ee0ff982851",
   "metadata": {},
   "outputs": [
    {
     "data": {
      "text/plain": [
       "['Album1']"
      ]
     },
     "execution_count": 32,
     "metadata": {},
     "output_type": "execute_result"
    }
   ],
   "source": [
    "# Create collection\n",
    "\n",
    "collection = Collection(\n",
    "    name=\"Album1\",\n",
    "    schema=collection_schema,\n",
    "    using='default')\n",
    "utility.list_collections()"
   ]
  },
  {
   "cell_type": "code",
   "execution_count": 9,
   "id": "89bfcf2a-0d11-4580-a5f8-7b926c22ad44",
   "metadata": {},
   "outputs": [
    {
     "data": {
      "text/plain": [
       "['Shaheen', 'Uzma', 'Raghib']"
      ]
     },
     "execution_count": 9,
     "metadata": {},
     "output_type": "execute_result"
    }
   ],
   "source": [
    "# Rename collection\n",
    "utility.rename_collection(\"Album1\", \"Shaheen\")\n",
    "utility.list_collections()"
   ]
  },
  {
   "cell_type": "code",
   "execution_count": 34,
   "id": "a0a86dfc-2a38-418c-bee7-dfbf36a736ca",
   "metadata": {},
   "outputs": [
    {
     "data": {
      "text/plain": [
       "[]"
      ]
     },
     "execution_count": 34,
     "metadata": {},
     "output_type": "execute_result"
    }
   ],
   "source": [
    "# Drop a collection\n",
    "\n",
    "utility.drop_collection(\"Album1\")\n",
    "utility.list_collections()"
   ]
  },
  {
   "cell_type": "code",
   "execution_count": 35,
   "id": "05a28722-6967-4858-8c1c-ec004c469cd0",
   "metadata": {},
   "outputs": [
    {
     "data": {
      "text/plain": [
       "[]"
      ]
     },
     "execution_count": 35,
     "metadata": {},
     "output_type": "execute_result"
    }
   ],
   "source": [
    "utility.list_collections()"
   ]
  },
  {
   "cell_type": "code",
   "execution_count": null,
   "id": "614caa53-dee7-457f-9c04-f5c2f4900e4d",
   "metadata": {},
   "outputs": [],
   "source": []
  }
 ],
 "metadata": {
  "kernelspec": {
   "display_name": "Python 3 (ipykernel)",
   "language": "python",
   "name": "python3"
  },
  "language_info": {
   "codemirror_mode": {
    "name": "ipython",
    "version": 3
   },
   "file_extension": ".py",
   "mimetype": "text/x-python",
   "name": "python",
   "nbconvert_exporter": "python",
   "pygments_lexer": "ipython3",
   "version": "3.10.12"
  }
 },
 "nbformat": 4,
 "nbformat_minor": 5
}
