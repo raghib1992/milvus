{
 "cells": [
  {
   "cell_type": "code",
   "execution_count": 17,
   "id": "fb647c9c-7849-4ff1-8ce2-6aba47afde1a",
   "metadata": {},
   "outputs": [],
   "source": [
    "from pymilvus import Collection, FieldSchema, CollectionSchema, DataType, connections, utility\n",
    "import string\n",
    "import random"
   ]
  },
  {
   "cell_type": "code",
   "execution_count": 18,
   "id": "a9f8d975-dc20-4ae2-b945-53ee0d294abd",
   "metadata": {},
   "outputs": [],
   "source": [
    "connections.connect(\n",
    "  alias=\"default\",\n",
    "  host='localhost',\n",
    "  port='19530',\n",
    ")"
   ]
  },
  {
   "cell_type": "code",
   "execution_count": 19,
   "id": "19079271-dd9e-45d5-a58a-6bad2857b40d",
   "metadata": {},
   "outputs": [
    {
     "data": {
      "text/plain": [
       "['Album1']"
      ]
     },
     "execution_count": 19,
     "metadata": {},
     "output_type": "execute_result"
    }
   ],
   "source": [
    "collection = Collection(\"Album1\")\n",
    "utility.list_collections()"
   ]
  },
  {
   "cell_type": "code",
   "execution_count": 20,
   "id": "55c95c95-4505-4dbc-8feb-88110a07d32c",
   "metadata": {},
   "outputs": [
    {
     "name": "stdout",
     "output_type": "stream",
     "text": [
      "[['FZMEHWI', 'NIEQPJL', 'KNQSBDC', 'IQSNLOU', 'DGRLMGC'], [0, 1, 2, 3, 4], [55427, 93125, 82321, 67781, 22410], [[0.6710778652408596, 0.5456951255446643], [0.40434562216485737, 0.7780703334642434], [0.455513993526667, 0.8586468278368947], [0.09411195839625419, 0.8822187858121017], [0.1148006385762188, 0.8033375246056628]]]\n"
     ]
    }
   ],
   "source": [
    "## Prepare data to be inserted\n",
    "num_entities = 5\n",
    "data = [\n",
    "  [''.join(random.choices(string.ascii_uppercase, k=7)) for i in range(num_entities)], #song name\n",
    "  [i for i in range(num_entities)], # Song ID\n",
    "  [random.randint(0, 100000) for i in range(num_entities)], # Listen Count\n",
    "  [[random.random() for _ in range(2)] for _ in range(num_entities)] # song_vec - 2d vector\n",
    "]\n",
    "print (data)"
   ]
  },
  {
   "cell_type": "code",
   "execution_count": 21,
   "id": "a023e521-e63c-41bf-a55f-f700aa38ef6a",
   "metadata": {},
   "outputs": [
    {
     "ename": "DataNotMatchException",
     "evalue": "<DataNotMatchException: (code=1, message=The data don't match with schema fields, expect 6 list, got 4)>",
     "output_type": "error",
     "traceback": [
      "\u001b[0;31m---------------------------------------------------------------------------\u001b[0m",
      "\u001b[0;31mDataNotMatchException\u001b[0m                     Traceback (most recent call last)",
      "Cell \u001b[0;32mIn[21], line 2\u001b[0m\n\u001b[1;32m      1\u001b[0m \u001b[38;5;66;03m# Insert entities\u001b[39;00m\n\u001b[0;32m----> 2\u001b[0m data_insert \u001b[38;5;241m=\u001b[39m \u001b[43mcollection\u001b[49m\u001b[38;5;241;43m.\u001b[39;49m\u001b[43minsert\u001b[49m\u001b[43m(\u001b[49m\u001b[43mdata\u001b[49m\u001b[43m)\u001b[49m\n",
      "File \u001b[0;32m~/milvus_env/lib/python3.10/site-packages/pymilvus/orm/collection.py:511\u001b[0m, in \u001b[0;36mCollection.insert\u001b[0;34m(self, data, partition_name, timeout, **kwargs)\u001b[0m\n\u001b[1;32m    501\u001b[0m \u001b[38;5;28;01mif\u001b[39;00m is_row_based(data):\n\u001b[1;32m    502\u001b[0m     \u001b[38;5;28;01mreturn\u001b[39;00m conn\u001b[38;5;241m.\u001b[39minsert_rows(\n\u001b[1;32m    503\u001b[0m         collection_name\u001b[38;5;241m=\u001b[39m\u001b[38;5;28mself\u001b[39m\u001b[38;5;241m.\u001b[39m_name,\n\u001b[1;32m    504\u001b[0m         entities\u001b[38;5;241m=\u001b[39mdata,\n\u001b[0;32m   (...)\u001b[0m\n\u001b[1;32m    508\u001b[0m         \u001b[38;5;241m*\u001b[39m\u001b[38;5;241m*\u001b[39mkwargs,\n\u001b[1;32m    509\u001b[0m     )\n\u001b[0;32m--> 511\u001b[0m \u001b[43mcheck_insert_schema\u001b[49m\u001b[43m(\u001b[49m\u001b[38;5;28;43mself\u001b[39;49m\u001b[38;5;241;43m.\u001b[39;49m\u001b[43mschema\u001b[49m\u001b[43m,\u001b[49m\u001b[43m \u001b[49m\u001b[43mdata\u001b[49m\u001b[43m)\u001b[49m\n\u001b[1;32m    512\u001b[0m entities \u001b[38;5;241m=\u001b[39m Prepare\u001b[38;5;241m.\u001b[39mprepare_insert_data(data, \u001b[38;5;28mself\u001b[39m\u001b[38;5;241m.\u001b[39mschema)\n\u001b[1;32m    513\u001b[0m \u001b[38;5;28;01mreturn\u001b[39;00m conn\u001b[38;5;241m.\u001b[39mbatch_insert(\n\u001b[1;32m    514\u001b[0m     \u001b[38;5;28mself\u001b[39m\u001b[38;5;241m.\u001b[39m_name,\n\u001b[1;32m    515\u001b[0m     entities,\n\u001b[0;32m   (...)\u001b[0m\n\u001b[1;32m    519\u001b[0m     \u001b[38;5;241m*\u001b[39m\u001b[38;5;241m*\u001b[39mkwargs,\n\u001b[1;32m    520\u001b[0m )\n",
      "File \u001b[0;32m~/milvus_env/lib/python3.10/site-packages/pymilvus/orm/schema.py:527\u001b[0m, in \u001b[0;36mcheck_insert_schema\u001b[0;34m(schema, data)\u001b[0m\n\u001b[1;32m    524\u001b[0m     columns\u001b[38;5;241m.\u001b[39mremove(schema\u001b[38;5;241m.\u001b[39mprimary_field)\n\u001b[1;32m    525\u001b[0m     data \u001b[38;5;241m=\u001b[39m data[[columns]]\n\u001b[0;32m--> 527\u001b[0m \u001b[43m_check_data_schema_cnt\u001b[49m\u001b[43m(\u001b[49m\u001b[43mschema\u001b[49m\u001b[43m,\u001b[49m\u001b[43m \u001b[49m\u001b[43mdata\u001b[49m\u001b[43m)\u001b[49m\n\u001b[1;32m    528\u001b[0m _check_insert_data(data)\n",
      "File \u001b[0;32m~/milvus_env/lib/python3.10/site-packages/pymilvus/orm/schema.py:506\u001b[0m, in \u001b[0;36m_check_data_schema_cnt\u001b[0;34m(schema, data)\u001b[0m\n\u001b[1;32m    503\u001b[0m         t_name \u001b[38;5;241m=\u001b[39m \u001b[38;5;28mlist\u001b[39m(data\u001b[38;5;241m.\u001b[39mcolumns)\n\u001b[1;32m    504\u001b[0m         message \u001b[38;5;241m=\u001b[39m \u001b[38;5;124mf\u001b[39m\u001b[38;5;124m\"\u001b[39m\u001b[38;5;124mThe fields don\u001b[39m\u001b[38;5;124m'\u001b[39m\u001b[38;5;124mt match with schema fields, expected: \u001b[39m\u001b[38;5;132;01m{\u001b[39;00mi_name\u001b[38;5;132;01m}\u001b[39;00m\u001b[38;5;124m, got \u001b[39m\u001b[38;5;132;01m{\u001b[39;00mt_name\u001b[38;5;132;01m}\u001b[39;00m\u001b[38;5;124m\"\u001b[39m\n\u001b[0;32m--> 506\u001b[0m     \u001b[38;5;28;01mraise\u001b[39;00m DataNotMatchException(message\u001b[38;5;241m=\u001b[39mmessage)\n\u001b[1;32m    508\u001b[0m \u001b[38;5;28;01mif\u001b[39;00m is_dataframe:\n\u001b[1;32m    509\u001b[0m     \u001b[38;5;28;01mfor\u001b[39;00m x, y \u001b[38;5;129;01min\u001b[39;00m \u001b[38;5;28mzip\u001b[39m(\u001b[38;5;28mlist\u001b[39m(data\u001b[38;5;241m.\u001b[39mcolumns), tmp_fields):\n",
      "\u001b[0;31mDataNotMatchException\u001b[0m: <DataNotMatchException: (code=1, message=The data don't match with schema fields, expect 6 list, got 4)>"
     ]
    }
   ],
   "source": [
    "\n",
    "# Insert entities\n",
    "data_insert = collection.insert(data)"
   ]
  },
  {
   "cell_type": "code",
   "execution_count": 6,
   "id": "67ac2e72-48a4-4cf8-9c8f-1ed7bf96c26a",
   "metadata": {},
   "outputs": [
    {
     "data": {
      "text/plain": [
       "(insert count: 0, delete count: 2, upsert count: 0, timestamp: 441605500079439876, success count: 0, err count: 0)"
      ]
     },
     "execution_count": 6,
     "metadata": {},
     "output_type": "execute_result"
    }
   ],
   "source": [
    "# Delete Entities\n",
    "\n",
    "expr = \"song_id in [0, 20]\"\n",
    "collection.delete(expr)"
   ]
  },
  {
   "cell_type": "code",
   "execution_count": 7,
   "id": "aae834bc-6807-4358-97d2-8d9cfabaf28c",
   "metadata": {},
   "outputs": [],
   "source": [
    "# Compact collection\n",
    "collection.compact()"
   ]
  },
  {
   "cell_type": "code",
   "execution_count": 22,
   "id": "aaa514b6-1ba9-48a6-9154-1f9e1be18ee3",
   "metadata": {},
   "outputs": [
    {
     "data": {
      "text/plain": [
       "['Album1']"
      ]
     },
     "execution_count": 22,
     "metadata": {},
     "output_type": "execute_result"
    }
   ],
   "source": [
    "utility.list_collections()"
   ]
  },
  {
   "cell_type": "code",
   "execution_count": null,
   "id": "ac846daa-da94-4231-904e-5e34407cd039",
   "metadata": {},
   "outputs": [],
   "source": []
  }
 ],
 "metadata": {
  "kernelspec": {
   "display_name": "Python 3 (ipykernel)",
   "language": "python",
   "name": "python3"
  },
  "language_info": {
   "codemirror_mode": {
    "name": "ipython",
    "version": 3
   },
   "file_extension": ".py",
   "mimetype": "text/x-python",
   "name": "python",
   "nbconvert_exporter": "python",
   "pygments_lexer": "ipython3",
   "version": "3.10.12"
  }
 },
 "nbformat": 4,
 "nbformat_minor": 5
}
